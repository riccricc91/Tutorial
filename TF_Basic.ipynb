{
  "nbformat": 4,
  "nbformat_minor": 0,
  "metadata": {
    "colab": {
      "name": "TF_Basic.ipynb",
      "provenance": []
    },
    "kernelspec": {
      "name": "python3",
      "display_name": "Python 3"
    }
  },
  "cells": [
    {
      "cell_type": "markdown",
      "metadata": {
        "id": "P2cYBeCOI_QV",
        "colab_type": "text"
      },
      "source": [
        "**`Tutorial Tensorflow Basic`**\n",
        "\n",
        "\n",
        "   <center>  <img src=https://devclass.com/wp-content/uploads/2018/08/Tensorflow.jpg width=\"800\">  </center> \n",
        "\n",
        "\n"
      ]
    },
    {
      "cell_type": "code",
      "metadata": {
        "id": "iGyaCwiN6D8z",
        "colab_type": "code",
        "colab": {
          "base_uri": "https://localhost:8080/",
          "height": 34
        },
        "outputId": "528c6aa7-ea21-4011-efde-4049c31687e6"
      },
      "source": [
        "try:\n",
        "  # %tensorflow_version only exists in Colab.\n",
        "  %tensorflow_version 2.x\n",
        "  print(tf.__version__)\n",
        "except Exception:\n",
        "  pass"
      ],
      "execution_count": 1,
      "outputs": [
        {
          "output_type": "stream",
          "text": [
            "TensorFlow 2.x selected.\n"
          ],
          "name": "stdout"
        }
      ]
    },
    {
      "cell_type": "code",
      "metadata": {
        "id": "yfSXeZ-H6Hci",
        "colab_type": "code",
        "colab": {}
      },
      "source": [
        "import tensorflow as tf"
      ],
      "execution_count": 0,
      "outputs": []
    },
    {
      "cell_type": "markdown",
      "metadata": {
        "id": "pnhXHs3SIHE4",
        "colab_type": "text"
      },
      "source": [
        "Define a constant"
      ]
    },
    {
      "cell_type": "code",
      "metadata": {
        "id": "Ldoi0gh86L5J",
        "colab_type": "code",
        "colab": {}
      },
      "source": [
        "x = tf.constant(10)"
      ],
      "execution_count": 0,
      "outputs": []
    },
    {
      "cell_type": "code",
      "metadata": {
        "id": "1rh5eABt6L8C",
        "colab_type": "code",
        "colab": {
          "base_uri": "https://localhost:8080/",
          "height": 51
        },
        "outputId": "4e879b89-338d-4da1-a21e-858d418f957d"
      },
      "source": [
        "print(x)\n",
        "print(type(x))"
      ],
      "execution_count": 4,
      "outputs": [
        {
          "output_type": "stream",
          "text": [
            "tf.Tensor(10, shape=(), dtype=int32)\n",
            "<class 'tensorflow.python.framework.ops.EagerTensor'>\n"
          ],
          "name": "stdout"
        }
      ]
    },
    {
      "cell_type": "code",
      "metadata": {
        "id": "UagGZYdx6MBW",
        "colab_type": "code",
        "colab": {}
      },
      "source": [
        "x1 = tf.constant(10)\n",
        "x2 = tf.constant(30)\n",
        "x_sum = x1+x2"
      ],
      "execution_count": 0,
      "outputs": []
    },
    {
      "cell_type": "code",
      "metadata": {
        "id": "xTiIBvXK7U7O",
        "colab_type": "code",
        "colab": {
          "base_uri": "https://localhost:8080/",
          "height": 68
        },
        "outputId": "ac6d30f5-32fb-411b-bc56-4f0acf0cd2aa"
      },
      "source": [
        "print(x1)\n",
        "print(x2)\n",
        "print(x_sum)"
      ],
      "execution_count": 6,
      "outputs": [
        {
          "output_type": "stream",
          "text": [
            "tf.Tensor(10, shape=(), dtype=int32)\n",
            "tf.Tensor(30, shape=(), dtype=int32)\n",
            "tf.Tensor(40, shape=(), dtype=int32)\n"
          ],
          "name": "stdout"
        }
      ]
    },
    {
      "cell_type": "code",
      "metadata": {
        "id": "Iiws_tjHIMs9",
        "colab_type": "code",
        "colab": {}
      },
      "source": [
        "u = tf.constant([3,4,3])\n",
        "v = tf.constant([1,4,3])\n",
        "z = tf.add(u,v)"
      ],
      "execution_count": 0,
      "outputs": []
    },
    {
      "cell_type": "code",
      "metadata": {
        "id": "n89UXN-OLAGb",
        "colab_type": "code",
        "colab": {
          "base_uri": "https://localhost:8080/",
          "height": 68
        },
        "outputId": "38ebd37f-4454-4fef-b15e-357d50a3a3b3"
      },
      "source": [
        "print(u)\n",
        "print(v)\n",
        "print(z)"
      ],
      "execution_count": 8,
      "outputs": [
        {
          "output_type": "stream",
          "text": [
            "tf.Tensor([3 4 3], shape=(3,), dtype=int32)\n",
            "tf.Tensor([1 4 3], shape=(3,), dtype=int32)\n",
            "tf.Tensor([4 8 6], shape=(3,), dtype=int32)\n"
          ],
          "name": "stdout"
        }
      ]
    },
    {
      "cell_type": "markdown",
      "metadata": {
        "id": "iDzaAtQzIN_1",
        "colab_type": "text"
      },
      "source": [
        "Define a variable"
      ]
    },
    {
      "cell_type": "code",
      "metadata": {
        "id": "jlmFn2cz7U9-",
        "colab_type": "code",
        "colab": {}
      },
      "source": [
        "y = tf.Variable([1,4])"
      ],
      "execution_count": 0,
      "outputs": []
    },
    {
      "cell_type": "code",
      "metadata": {
        "id": "AXyrqApu7mlo",
        "colab_type": "code",
        "colab": {
          "base_uri": "https://localhost:8080/",
          "height": 34
        },
        "outputId": "7fa924c9-8551-481c-c1a4-ba794dfb64c4"
      },
      "source": [
        "y"
      ],
      "execution_count": 10,
      "outputs": [
        {
          "output_type": "execute_result",
          "data": {
            "text/plain": [
              "<tf.Variable 'Variable:0' shape=(2,) dtype=int32, numpy=array([1, 4], dtype=int32)>"
            ]
          },
          "metadata": {
            "tags": []
          },
          "execution_count": 10
        }
      ]
    },
    {
      "cell_type": "markdown",
      "metadata": {
        "id": "dRUDs7E8IRal",
        "colab_type": "text"
      },
      "source": [
        "Define a function"
      ]
    },
    {
      "cell_type": "code",
      "metadata": {
        "id": "-tlH48kr8k4S",
        "colab_type": "code",
        "colab": {}
      },
      "source": [
        "def f1(x,y):\n",
        "  return tf.reduce_mean(input_tensor=tf.multiply(x**2,3)+y**2)"
      ],
      "execution_count": 0,
      "outputs": []
    },
    {
      "cell_type": "code",
      "metadata": {
        "id": "nATAEE_v7VAy",
        "colab_type": "code",
        "colab": {}
      },
      "source": [
        "f2 = tf.function(f1)"
      ],
      "execution_count": 0,
      "outputs": []
    },
    {
      "cell_type": "markdown",
      "metadata": {
        "id": "jddt4nRtLN9g",
        "colab_type": "text"
      },
      "source": [
        "Gradient"
      ]
    },
    {
      "cell_type": "code",
      "metadata": {
        "id": "LPPLdDhzL8-Q",
        "colab_type": "code",
        "colab": {}
      },
      "source": [
        "# define a function y=ax+b --> y = 2x-3\n",
        "\n",
        "X = tf.Variable(30.0) #random initailization\n",
        "A = tf.constant(22.0)\n",
        "B = tf.constant(1.0)"
      ],
      "execution_count": 0,
      "outputs": []
    },
    {
      "cell_type": "code",
      "metadata": {
        "id": "mhu2oeArLjSR",
        "colab_type": "code",
        "colab": {}
      },
      "source": [
        "y = A * X - B"
      ],
      "execution_count": 0,
      "outputs": []
    },
    {
      "cell_type": "code",
      "metadata": {
        "id": "AdChSdSjLM0V",
        "colab_type": "code",
        "colab": {}
      },
      "source": [
        "def gradient():\n",
        "  with tf.GradientTape() as tape:\n",
        "    loss = A * X - B\n",
        "    dX = tape.gradient(loss,X)\n",
        "  return dX"
      ],
      "execution_count": 0,
      "outputs": []
    },
    {
      "cell_type": "code",
      "metadata": {
        "id": "dC3bZ-yhNJ-5",
        "colab_type": "code",
        "colab": {
          "base_uri": "https://localhost:8080/",
          "height": 34
        },
        "outputId": "6b5518df-2ded-40cb-cb0c-8329ea8864b7"
      },
      "source": [
        "gradient()"
      ],
      "execution_count": 16,
      "outputs": [
        {
          "output_type": "execute_result",
          "data": {
            "text/plain": [
              "<tf.Tensor: shape=(), dtype=float32, numpy=22.0>"
            ]
          },
          "metadata": {
            "tags": []
          },
          "execution_count": 16
        }
      ]
    },
    {
      "cell_type": "markdown",
      "metadata": {
        "id": "eh3i_9A6Jne4",
        "colab_type": "text"
      },
      "source": [
        "Perceptron"
      ]
    },
    {
      "cell_type": "code",
      "metadata": {
        "id": "QOeTkdGGCVZK",
        "colab_type": "code",
        "colab": {}
      },
      "source": [
        "import numpy as np"
      ],
      "execution_count": 0,
      "outputs": []
    },
    {
      "cell_type": "code",
      "metadata": {
        "id": "XcL7d2KI-n5a",
        "colab_type": "code",
        "colab": {}
      },
      "source": [
        "class Neuron(object):\n",
        "  def __init__(self, num_inputs, activation_fn):\n",
        "    super().__init__()\n",
        "\n",
        "    self.W = np.random.rand(num_inputs)\n",
        "    self.b = np.random.rand(1)\n",
        "    self.activation_fn = activation_fn\n",
        "\n",
        "  def forward(self,x):\n",
        "    z = np.dot(x, self.W) + self.b\n",
        "    return self.activation_fn(z)"
      ],
      "execution_count": 0,
      "outputs": []
    },
    {
      "cell_type": "code",
      "metadata": {
        "id": "_reCPmla-n77",
        "colab_type": "code",
        "colab": {}
      },
      "source": [
        "np.random.seed(42)\n",
        "x = np.random.rand(3).reshape(1,3)"
      ],
      "execution_count": 0,
      "outputs": []
    },
    {
      "cell_type": "code",
      "metadata": {
        "id": "ZIXk_Wfl-n-h",
        "colab_type": "code",
        "colab": {
          "base_uri": "https://localhost:8080/",
          "height": 34
        },
        "outputId": "fb66f3a4-48d9-4d65-ef61-49b8654a2c5e"
      },
      "source": [
        "x"
      ],
      "execution_count": 20,
      "outputs": [
        {
          "output_type": "execute_result",
          "data": {
            "text/plain": [
              "array([[0.37454012, 0.95071431, 0.73199394]])"
            ]
          },
          "metadata": {
            "tags": []
          },
          "execution_count": 20
        }
      ]
    },
    {
      "cell_type": "code",
      "metadata": {
        "id": "Wkq8UCviDG9v",
        "colab_type": "code",
        "colab": {}
      },
      "source": [
        "y_ = lambda y:0 if y<=0 else 1"
      ],
      "execution_count": 0,
      "outputs": []
    },
    {
      "cell_type": "code",
      "metadata": {
        "id": "3JEAbZtFDHAi",
        "colab_type": "code",
        "colab": {}
      },
      "source": [
        "perceptron = Neuron(num_inputs=x.size, activation_fn = y_)"
      ],
      "execution_count": 0,
      "outputs": []
    },
    {
      "cell_type": "code",
      "metadata": {
        "id": "1-Lx9rO9D5TX",
        "colab_type": "code",
        "colab": {
          "base_uri": "https://localhost:8080/",
          "height": 51
        },
        "outputId": "99ab0d43-addb-4615-f798-52e1deb9225c"
      },
      "source": [
        "print(perceptron.W)\n",
        "print(perceptron.b)"
      ],
      "execution_count": 23,
      "outputs": [
        {
          "output_type": "stream",
          "text": [
            "[0.59865848 0.15601864 0.15599452]\n",
            "[0.05808361]\n"
          ],
          "name": "stdout"
        }
      ]
    },
    {
      "cell_type": "code",
      "metadata": {
        "id": "jJ7wQkTTEn4s",
        "colab_type": "code",
        "colab": {
          "base_uri": "https://localhost:8080/",
          "height": 34
        },
        "outputId": "04bc21fd-12e5-47bc-c2c0-4d0e43abb53e"
      },
      "source": [
        "perceptron.forward(x)"
      ],
      "execution_count": 24,
      "outputs": [
        {
          "output_type": "execute_result",
          "data": {
            "text/plain": [
              "1"
            ]
          },
          "metadata": {
            "tags": []
          },
          "execution_count": 24
        }
      ]
    },
    {
      "cell_type": "markdown",
      "metadata": {
        "id": "4fdVjYeLJsGi",
        "colab_type": "text"
      },
      "source": [
        "FullyConnectedLayer\n"
      ]
    },
    {
      "cell_type": "code",
      "metadata": {
        "id": "EF4ECUZiEy7_",
        "colab_type": "code",
        "colab": {}
      },
      "source": [
        "class FullyConnectedLayer(object):\n",
        "  def __init__(self, num_inputs, layer_size,activation_fn):\n",
        "    super().__init__()\n",
        "\n",
        "    self.layer_size = layer_size\n",
        "    self.W = np.random.standard_normal((num_inputs, layer_size))\n",
        "    self.b = np.random.standard_normal(layer_size)\n",
        "    self.activation_fn = activation_fn\n",
        "    \n",
        "\n",
        "  def forward(self,x):\n",
        "    z = np.dot(x, self.W) + self.b\n",
        "    return self.activation_fn(z)"
      ],
      "execution_count": 0,
      "outputs": []
    },
    {
      "cell_type": "code",
      "metadata": {
        "id": "Re-MMflgEy_D",
        "colab_type": "code",
        "colab": {}
      },
      "source": [
        "x1 = np.random.uniform(-1,1,2).reshape(1,2)\n",
        "relu_fn = lambda y:np.maximum(y,0)"
      ],
      "execution_count": 0,
      "outputs": []
    },
    {
      "cell_type": "code",
      "metadata": {
        "id": "-AjUeQUPHpBU",
        "colab_type": "code",
        "colab": {
          "base_uri": "https://localhost:8080/",
          "height": 51
        },
        "outputId": "fb6ec5c4-c38e-4925-ec84-bbdf1d97e8fa"
      },
      "source": [
        "print(x1)\n",
        "print(x1.shape)"
      ],
      "execution_count": 27,
      "outputs": [
        {
          "output_type": "stream",
          "text": [
            "[[0.73235229 0.20223002]]\n",
            "(1, 2)\n"
          ],
          "name": "stdout"
        }
      ]
    },
    {
      "cell_type": "code",
      "metadata": {
        "id": "3ygNbOMMEzCD",
        "colab_type": "code",
        "colab": {}
      },
      "source": [
        "FullyConnected = FullyConnectedLayer(2,3, relu_fn)"
      ],
      "execution_count": 0,
      "outputs": []
    },
    {
      "cell_type": "code",
      "metadata": {
        "id": "Tw8yPp1UHkna",
        "colab_type": "code",
        "colab": {
          "base_uri": "https://localhost:8080/",
          "height": 34
        },
        "outputId": "8ab9077b-35df-4a68-da70-f3fd6bd0095d"
      },
      "source": [
        "FullyConnected.forward(x1)"
      ],
      "execution_count": 29,
      "outputs": [
        {
          "output_type": "execute_result",
          "data": {
            "text/plain": [
              "array([[0.20416035, 0.        , 0.        ]])"
            ]
          },
          "metadata": {
            "tags": []
          },
          "execution_count": 29
        }
      ]
    }
  ]
}