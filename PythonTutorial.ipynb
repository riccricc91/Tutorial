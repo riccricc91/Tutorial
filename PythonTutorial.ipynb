{
  "nbformat": 4,
  "nbformat_minor": 0,
  "metadata": {
    "colab": {
      "name": "PythonTutorial.ipynb",
      "provenance": [],
      "collapsed_sections": [],
      "authorship_tag": "ABX9TyOAR1BFq12xf4f68RcDicME",
      "include_colab_link": true
    },
    "kernelspec": {
      "name": "python3",
      "display_name": "Python 3"
    }
  },
  "cells": [
    {
      "cell_type": "markdown",
      "metadata": {
        "id": "view-in-github",
        "colab_type": "text"
      },
      "source": [
        "<a href=\"https://colab.research.google.com/github/riccricc91/Tutorial/blob/master/PythonTutorial.ipynb\" target=\"_parent\"><img src=\"https://colab.research.google.com/assets/colab-badge.svg\" alt=\"Open In Colab\"/></a>"
      ]
    },
    {
      "cell_type": "code",
      "metadata": {
        "id": "3KbAcwct941Q",
        "colab_type": "code",
        "colab": {}
      },
      "source": [
        "################################################################################\n",
        "# \n",
        "#\n",
        "#                            Tutorial python\n",
        "#\n",
        "#\n",
        "################################################################################"
      ],
      "execution_count": 1,
      "outputs": []
    },
    {
      "cell_type": "code",
      "metadata": {
        "id": "QQNuee9NpiPv",
        "colab_type": "code",
        "colab": {
          "base_uri": "https://localhost:8080/",
          "height": 87
        },
        "outputId": "ec3d555f-9a16-44be-c6f8-7d7c2592183c"
      },
      "source": [
        "#Tipi\n",
        "x1 = 100\n",
        "x2 = 100.0\n",
        "x3 = \"casa\"\n",
        "\n",
        "print(type(x1))\n",
        "print(type(x2))\n",
        "print(type(x3))"
      ],
      "execution_count": 2,
      "outputs": [
        {
          "output_type": "stream",
          "text": [
            "<class 'int'>\n",
            "<class 'float'>\n",
            "<class 'str'>\n"
          ],
          "name": "stdout"
        }
      ]
    },
    {
      "cell_type": "code",
      "metadata": {
        "id": "fXatMhqqpigB",
        "colab_type": "code",
        "colab": {
          "base_uri": "https://localhost:8080/",
          "height": 71
        },
        "outputId": "ea6fcb72-b44a-4115-9f4c-3de65eb3a2fc"
      },
      "source": [
        "#Conversione da decibae a binario o esadecimale\n",
        "print(bin(x1))\n",
        "print(hex(x1))"
      ],
      "execution_count": 3,
      "outputs": [
        {
          "output_type": "stream",
          "text": [
            "0b1100100\n",
            "0x64\n"
          ],
          "name": "stdout"
        }
      ]
    },
    {
      "cell_type": "code",
      "metadata": {
        "id": "whIq5mO6shHG",
        "colab_type": "code",
        "colab": {
          "base_uri": "https://localhost:8080/",
          "height": 71
        },
        "outputId": "0b655611-b762-4c59-9976-621e828c7d1b"
      },
      "source": [
        "#Interpolazione di stringhe\n",
        "titolo = \"Isola misteriosa\"\n",
        "autore = \"Cesare\"\n",
        "\n",
        "print(f\"Titolo: {titolo}, Autore: {autore}\" )\n",
        "print(f\"Titolo: {titolo.upper()}, Autore: {autore}\")"
      ],
      "execution_count": 4,
      "outputs": [
        {
          "output_type": "stream",
          "text": [
            "Titolo: Isola misteriosa, Autore: Cesare\n",
            "Titolo: ISOLA MISTERIOSA, Autore: Cesare\n"
          ],
          "name": "stdout"
        }
      ]
    },
    {
      "cell_type": "code",
      "metadata": {
        "id": "UKS5lORUshT5",
        "colab_type": "code",
        "colab": {
          "base_uri": "https://localhost:8080/",
          "height": 71
        },
        "outputId": "bc9047a2-76ed-4bc2-8b3f-ce5d0e6d6178"
      },
      "source": [
        "#Liste\n",
        "myList1 = [20, 30, 40]\n",
        "myList2 = [[1,2],[2,3]]\n",
        "\n",
        "print(myList1)\n",
        "print(myList2)"
      ],
      "execution_count": 5,
      "outputs": [
        {
          "output_type": "stream",
          "text": [
            "[20, 30, 40]\n",
            "[[1, 2], [2, 3]]\n"
          ],
          "name": "stdout"
        }
      ]
    },
    {
      "cell_type": "code",
      "metadata": {
        "id": "0MGibwlnuUUL",
        "colab_type": "code",
        "colab": {
          "base_uri": "https://localhost:8080/",
          "height": 54
        },
        "outputId": "b6e40e3a-5986-4930-a1cf-e283971a884d"
      },
      "source": [
        "#Sostituire un valore in una lista\n",
        "myList2[1][1] = 300\n",
        "print(myList2)"
      ],
      "execution_count": 6,
      "outputs": [
        {
          "output_type": "stream",
          "text": [
            "[[1, 2], [2, 300]]\n"
          ],
          "name": "stdout"
        }
      ]
    },
    {
      "cell_type": "code",
      "metadata": {
        "id": "EVkr8aMavr2d",
        "colab_type": "code",
        "colab": {
          "base_uri": "https://localhost:8080/",
          "height": 71
        },
        "outputId": "95199483-1edb-4faf-f95c-45feaca004d0"
      },
      "source": [
        "#Inserire un valore in una lista\n",
        "print(myList1)\n",
        "myList1.insert(2,200)\n",
        "print(myList1)"
      ],
      "execution_count": 7,
      "outputs": [
        {
          "output_type": "stream",
          "text": [
            "[20, 30, 40]\n",
            "[20, 30, 200, 40]\n"
          ],
          "name": "stdout"
        }
      ]
    },
    {
      "cell_type": "code",
      "metadata": {
        "id": "7zYrd8L3vr8X",
        "colab_type": "code",
        "colab": {
          "base_uri": "https://localhost:8080/",
          "height": 71
        },
        "outputId": "fcd2e7a8-b4bf-4dde-e19e-4c78f9adc070"
      },
      "source": [
        "#Append\n",
        "print(myList1)\n",
        "myList1.append(101)\n",
        "print(myList1)"
      ],
      "execution_count": 8,
      "outputs": [
        {
          "output_type": "stream",
          "text": [
            "[20, 30, 200, 40]\n",
            "[20, 30, 200, 40, 101]\n"
          ],
          "name": "stdout"
        }
      ]
    },
    {
      "cell_type": "code",
      "metadata": {
        "id": "uEGhp7YYvsDq",
        "colab_type": "code",
        "colab": {
          "base_uri": "https://localhost:8080/",
          "height": 71
        },
        "outputId": "bce0395c-fc26-4bc3-a462-efe9fddc4927"
      },
      "source": [
        "#Eliminare un valore da una lista\n",
        "print(myList1)\n",
        "del myList1[2]\n",
        "print(myList1)"
      ],
      "execution_count": 9,
      "outputs": [
        {
          "output_type": "stream",
          "text": [
            "[20, 30, 200, 40, 101]\n",
            "[20, 30, 40, 101]\n"
          ],
          "name": "stdout"
        }
      ]
    },
    {
      "cell_type": "code",
      "metadata": {
        "id": "WKtCqOa1wLxD",
        "colab_type": "code",
        "colab": {
          "base_uri": "https://localhost:8080/",
          "height": 54
        },
        "outputId": "d9cbcf69-5493-4267-c908-52c083cffaf9"
      },
      "source": [
        "#interrogo la lista\n",
        "101 in myList1"
      ],
      "execution_count": 10,
      "outputs": [
        {
          "output_type": "execute_result",
          "data": {
            "text/plain": [
              "True"
            ]
          },
          "metadata": {
            "tags": []
          },
          "execution_count": 10
        }
      ]
    },
    {
      "cell_type": "code",
      "metadata": {
        "id": "WgbFc2TSwL8M",
        "colab_type": "code",
        "colab": {
          "base_uri": "https://localhost:8080/",
          "height": 104
        },
        "outputId": "f961df14-596f-4e97-e4c2-992e4dea2a01"
      },
      "source": [
        "#Definire gli elementi di un tupla\n",
        "myTupla = 'cane', 'lupo', 'orso' \n",
        "a,b,c = myTupla\n",
        "print(myTupla)\n",
        "print(a)\n",
        "print(b)\n",
        "print(c)"
      ],
      "execution_count": 11,
      "outputs": [
        {
          "output_type": "stream",
          "text": [
            "('cane', 'lupo', 'orso')\n",
            "cane\n",
            "lupo\n",
            "orso\n"
          ],
          "name": "stdout"
        }
      ]
    },
    {
      "cell_type": "code",
      "metadata": {
        "id": "HI8bD1SiwyVd",
        "colab_type": "code",
        "colab": {
          "base_uri": "https://localhost:8080/",
          "height": 54
        },
        "outputId": "84b6d7c7-491d-4bf4-acfa-bf61ecc1129a"
      },
      "source": [
        "#Definire un dizionario\n",
        "myDict = {\n",
        "    \"juventus\" : 40,\n",
        "    \"inter\": 10,\n",
        "    \"milan\": 3\n",
        "}\n",
        "\n",
        "myDict['juventus']"
      ],
      "execution_count": 12,
      "outputs": [
        {
          "output_type": "execute_result",
          "data": {
            "text/plain": [
              "40"
            ]
          },
          "metadata": {
            "tags": []
          },
          "execution_count": 12
        }
      ]
    },
    {
      "cell_type": "code",
      "metadata": {
        "id": "91cn8CSswyoo",
        "colab_type": "code",
        "colab": {
          "base_uri": "https://localhost:8080/",
          "height": 54
        },
        "outputId": "f99b1caa-c948-4d9b-b94d-deaf83d9e7a6"
      },
      "source": [
        "#Cambiare il valore associato a una chiave\n",
        "myDict['juventus'] = 10\n",
        "myDict['juventus']"
      ],
      "execution_count": 13,
      "outputs": [
        {
          "output_type": "execute_result",
          "data": {
            "text/plain": [
              "10"
            ]
          },
          "metadata": {
            "tags": []
          },
          "execution_count": 13
        }
      ]
    },
    {
      "cell_type": "code",
      "metadata": {
        "id": "Og6n1hUQyjiM",
        "colab_type": "code",
        "colab": {
          "base_uri": "https://localhost:8080/",
          "height": 54
        },
        "outputId": "59cd5d68-5f99-40cc-fecc-6fd539b9dc6b"
      },
      "source": [
        "#Eliminare la chiave di un dizionario\n",
        "del myDict['inter']\n",
        "myDict"
      ],
      "execution_count": 14,
      "outputs": [
        {
          "output_type": "execute_result",
          "data": {
            "text/plain": [
              "{'juventus': 10, 'milan': 3}"
            ]
          },
          "metadata": {
            "tags": []
          },
          "execution_count": 14
        }
      ]
    },
    {
      "cell_type": "code",
      "metadata": {
        "id": "pqC7Ct6hy9Bg",
        "colab_type": "code",
        "colab": {
          "base_uri": "https://localhost:8080/",
          "height": 54
        },
        "outputId": "92ce5ba5-f92b-474d-ecda-7dfa0b19b382"
      },
      "source": [
        "#Interrogare un dizionario\n",
        "\"juventus\" in myDict"
      ],
      "execution_count": 15,
      "outputs": [
        {
          "output_type": "execute_result",
          "data": {
            "text/plain": [
              "True"
            ]
          },
          "metadata": {
            "tags": []
          },
          "execution_count": 15
        }
      ]
    },
    {
      "cell_type": "code",
      "metadata": {
        "id": "LD7OwV41yjrZ",
        "colab_type": "code",
        "colab": {
          "base_uri": "https://localhost:8080/",
          "height": 54
        },
        "outputId": "cd6bc6e5-fc62-4d9a-96c5-8683c98c9ed1"
      },
      "source": [
        "#Clear del dizionario\n",
        "myDict.clear()\n",
        "myDict"
      ],
      "execution_count": 16,
      "outputs": [
        {
          "output_type": "execute_result",
          "data": {
            "text/plain": [
              "{}"
            ]
          },
          "metadata": {
            "tags": []
          },
          "execution_count": 16
        }
      ]
    },
    {
      "cell_type": "code",
      "metadata": {
        "id": "EFaHT7jKykHz",
        "colab_type": "code",
        "colab": {
          "base_uri": "https://localhost:8080/",
          "height": 71
        },
        "outputId": "79114f7b-b691-4b29-a01d-765123285369"
      },
      "source": [
        "#Insiemi\n",
        "mySet1 = {10, 20, 30, 40, 50, 60} \n",
        "mySet2 = {10} \n",
        "print(mySet1)\n",
        "print(mySet2)"
      ],
      "execution_count": 17,
      "outputs": [
        {
          "output_type": "stream",
          "text": [
            "{40, 10, 50, 20, 60, 30}\n",
            "{10}\n"
          ],
          "name": "stdout"
        }
      ]
    },
    {
      "cell_type": "code",
      "metadata": {
        "id": "i-_Qm8D0ykF8",
        "colab_type": "code",
        "colab": {
          "base_uri": "https://localhost:8080/",
          "height": 71
        },
        "outputId": "e8bbbe97-5111-4718-97ca-c098a0ea22aa"
      },
      "source": [
        "#Aggiungere un elemento a un insieme\n",
        "print(mySet1)\n",
        "mySet1.add(70)\n",
        "print(mySet1)"
      ],
      "execution_count": 18,
      "outputs": [
        {
          "output_type": "stream",
          "text": [
            "{40, 10, 50, 20, 60, 30}\n",
            "{70, 40, 10, 50, 20, 60, 30}\n"
          ],
          "name": "stdout"
        }
      ]
    },
    {
      "cell_type": "code",
      "metadata": {
        "id": "n_L-s7Z9yjyE",
        "colab_type": "code",
        "colab": {
          "base_uri": "https://localhost:8080/",
          "height": 104
        },
        "outputId": "9cb8b1e6-0c1c-4a80-a86a-3555d027e96c"
      },
      "source": [
        "#Operazioni tra gli insiemi\n",
        "print(mySet1 & mySet2)\n",
        "print(mySet1 | mySet2)\n",
        "print(mySet1 - mySet2)\n",
        "print(mySet1 ^ mySet2) #or esclusivo"
      ],
      "execution_count": 19,
      "outputs": [
        {
          "output_type": "stream",
          "text": [
            "{10}\n",
            "{50, 20, 70, 40, 10, 60, 30}\n",
            "{70, 40, 50, 20, 60, 30}\n",
            "{70, 40, 50, 20, 60, 30}\n"
          ],
          "name": "stdout"
        }
      ]
    },
    {
      "cell_type": "code",
      "metadata": {
        "id": "au1KeL-dBcvd",
        "colab_type": "code",
        "colab": {
          "base_uri": "https://localhost:8080/",
          "height": 71
        },
        "outputId": "0c12118f-2717-4173-ef84-2fa3d589daf1"
      },
      "source": [
        "x = int(input(\"Inserire numero \"))\n",
        "print(x)"
      ],
      "execution_count": 20,
      "outputs": [
        {
          "output_type": "stream",
          "text": [
            "Inserire numero 5\n",
            "5\n"
          ],
          "name": "stdout"
        }
      ]
    },
    {
      "cell_type": "code",
      "metadata": {
        "id": "vE3FlxZx0CaD",
        "colab_type": "code",
        "colab": {
          "base_uri": "https://localhost:8080/",
          "height": 54
        },
        "outputId": "ba3e6519-2ed9-40e6-eb9c-05107de8af45"
      },
      "source": [
        "#Ciclo if\n",
        "if x<10:\n",
        "  print(\"minore di 10\")\n",
        "else:\n",
        "  print(\"maggiore di 10\")"
      ],
      "execution_count": 21,
      "outputs": [
        {
          "output_type": "stream",
          "text": [
            "minore di 10\n"
          ],
          "name": "stdout"
        }
      ]
    },
    {
      "cell_type": "code",
      "metadata": {
        "id": "IO-sDwo40CYI",
        "colab_type": "code",
        "colab": {
          "base_uri": "https://localhost:8080/",
          "height": 302
        },
        "outputId": "40e31d0c-074c-4ab7-860a-9ad4d3faab3c"
      },
      "source": [
        "#Ciclo while\n",
        "while x<20:\n",
        "  print(x)\n",
        "  x +=1\n",
        "  if x >=20:\n",
        "    print (\"exit\")\n",
        "    break\n",
        "    "
      ],
      "execution_count": 22,
      "outputs": [
        {
          "output_type": "stream",
          "text": [
            "5\n",
            "6\n",
            "7\n",
            "8\n",
            "9\n",
            "10\n",
            "11\n",
            "12\n",
            "13\n",
            "14\n",
            "15\n",
            "16\n",
            "17\n",
            "18\n",
            "19\n",
            "exit\n"
          ],
          "name": "stdout"
        }
      ]
    },
    {
      "cell_type": "code",
      "metadata": {
        "id": "Dpf2U3Zy0CWZ",
        "colab_type": "code",
        "colab": {
          "base_uri": "https://localhost:8080/",
          "height": 104
        },
        "outputId": "1f402d6f-7eab-4440-d1c9-62d9a45cb5f9"
      },
      "source": [
        "while True:\n",
        "  x1 = int(input(\"Inserire numero \"))\n",
        "  if x1 > 3:\n",
        "    break"
      ],
      "execution_count": 24,
      "outputs": [
        {
          "output_type": "stream",
          "text": [
            "Inserire numero 1\n",
            "Inserire numero 2\n",
            "Inserire numero 1\n",
            "Inserire numero 4\n"
          ],
          "name": "stdout"
        }
      ]
    },
    {
      "cell_type": "code",
      "metadata": {
        "id": "U0EAjf900CA0",
        "colab_type": "code",
        "colab": {}
      },
      "source": [
        "#for\n",
        "myList = [1,20,3,4]\n",
        "myString = 'casa'\n",
        "myict = {'a':10, 'b':20}"
      ],
      "execution_count": 25,
      "outputs": []
    },
    {
      "cell_type": "code",
      "metadata": {
        "id": "7QotPsvz0B-2",
        "colab_type": "code",
        "colab": {
          "base_uri": "https://localhost:8080/",
          "height": 104
        },
        "outputId": "0472dc42-7aaf-4e50-be71-5d8ffc3a52e3"
      },
      "source": [
        "for i in myList:\n",
        "  print (i)"
      ],
      "execution_count": 26,
      "outputs": [
        {
          "output_type": "stream",
          "text": [
            "1\n",
            "20\n",
            "3\n",
            "4\n"
          ],
          "name": "stdout"
        }
      ]
    },
    {
      "cell_type": "code",
      "metadata": {
        "id": "khRvCat_Kis6",
        "colab_type": "code",
        "colab": {
          "base_uri": "https://localhost:8080/",
          "height": 104
        },
        "outputId": "ec18d179-4298-4f62-efc6-601a5e602bea"
      },
      "source": [
        "for i in myString:\n",
        "  print (i)"
      ],
      "execution_count": 27,
      "outputs": [
        {
          "output_type": "stream",
          "text": [
            "c\n",
            "a\n",
            "s\n",
            "a\n"
          ],
          "name": "stdout"
        }
      ]
    },
    {
      "cell_type": "code",
      "metadata": {
        "id": "bjcCiM7uKv5Q",
        "colab_type": "code",
        "colab": {
          "base_uri": "https://localhost:8080/",
          "height": 71
        },
        "outputId": "3921982b-d53d-4b7f-df16-56d7c8a90e5e"
      },
      "source": [
        "for i in myict: #in questo casa vedo le chiavi\n",
        "  print (i)"
      ],
      "execution_count": 28,
      "outputs": [
        {
          "output_type": "stream",
          "text": [
            "a\n",
            "b\n"
          ],
          "name": "stdout"
        }
      ]
    },
    {
      "cell_type": "code",
      "metadata": {
        "id": "JXNEvpKlK1yl",
        "colab_type": "code",
        "colab": {
          "base_uri": "https://localhost:8080/",
          "height": 71
        },
        "outputId": "4f389376-48f7-439d-cb28-5a8d45ac2b70"
      },
      "source": [
        "for i in myict.values(): #in questo casa vedo i valori\n",
        "  print (i)"
      ],
      "execution_count": 29,
      "outputs": [
        {
          "output_type": "stream",
          "text": [
            "10\n",
            "20\n"
          ],
          "name": "stdout"
        }
      ]
    },
    {
      "cell_type": "code",
      "metadata": {
        "id": "oztpbEUjK123",
        "colab_type": "code",
        "colab": {
          "base_uri": "https://localhost:8080/",
          "height": 71
        },
        "outputId": "d331da25-6945-43a3-bea6-a75a99f77899"
      },
      "source": [
        "for i in myict.items(): #in questo casa vedo i valori e le chiavi\n",
        "  print (i)"
      ],
      "execution_count": 30,
      "outputs": [
        {
          "output_type": "stream",
          "text": [
            "('a', 10)\n",
            "('b', 20)\n"
          ],
          "name": "stdout"
        }
      ]
    },
    {
      "cell_type": "code",
      "metadata": {
        "id": "Ia0D97PhK2kc",
        "colab_type": "code",
        "colab": {
          "base_uri": "https://localhost:8080/",
          "height": 87
        },
        "outputId": "58134fbc-4095-4682-ad5a-aee6d5f5fb97"
      },
      "source": [
        "for i in range(10,16,2):\n",
        "  print(i)"
      ],
      "execution_count": 31,
      "outputs": [
        {
          "output_type": "stream",
          "text": [
            "10\n",
            "12\n",
            "14\n"
          ],
          "name": "stdout"
        }
      ]
    },
    {
      "cell_type": "code",
      "metadata": {
        "id": "OjJSPhLEK2h7",
        "colab_type": "code",
        "colab": {
          "base_uri": "https://localhost:8080/",
          "height": 54
        },
        "outputId": "b3de7006-7251-4bea-e2ea-ca9ad9bb38bc"
      },
      "source": [
        "#Comprension\n",
        "numbers = [1,2,3,4,5,6,7,8]\n",
        "[n*n for n in numbers if n%2==1]"
      ],
      "execution_count": 32,
      "outputs": [
        {
          "output_type": "execute_result",
          "data": {
            "text/plain": [
              "[1, 9, 25, 49]"
            ]
          },
          "metadata": {
            "tags": []
          },
          "execution_count": 32
        }
      ]
    },
    {
      "cell_type": "code",
      "metadata": {
        "id": "lKFV6pDEK2Sj",
        "colab_type": "code",
        "colab": {}
      },
      "source": [
        "#dict comprension da fare"
      ],
      "execution_count": null,
      "outputs": []
    },
    {
      "cell_type": "code",
      "metadata": {
        "id": "YaUbxlJNK2Qa",
        "colab_type": "code",
        "colab": {
          "base_uri": "https://localhost:8080/",
          "height": 54
        },
        "outputId": "d64c3bb6-ebd6-4da4-9665-1d7cdb639446"
      },
      "source": [
        "# create list of fruits\n",
        "fruits = ['apple', 'mango', 'banana','cherry']\n",
        "# dict comprehension to create dict with fruit name as keys\n",
        "{f:len(f) for f in fruits}"
      ],
      "execution_count": 33,
      "outputs": [
        {
          "output_type": "execute_result",
          "data": {
            "text/plain": [
              "{'apple': 5, 'banana': 6, 'cherry': 6, 'mango': 5}"
            ]
          },
          "metadata": {
            "tags": []
          },
          "execution_count": 33
        }
      ]
    },
    {
      "cell_type": "code",
      "metadata": {
        "id": "snXJ6WreK2Ec",
        "colab_type": "code",
        "colab": {}
      },
      "source": [
        "a = 'casa'"
      ],
      "execution_count": 34,
      "outputs": []
    },
    {
      "cell_type": "code",
      "metadata": {
        "id": "5LKs20SXMzfL",
        "colab_type": "code",
        "colab": {
          "base_uri": "https://localhost:8080/",
          "height": 54
        },
        "outputId": "df62ef43-7e53-4d2e-b6ad-e2e1c41bd1aa"
      },
      "source": [
        "{k for k in a}"
      ],
      "execution_count": 35,
      "outputs": [
        {
          "output_type": "execute_result",
          "data": {
            "text/plain": [
              "{'a', 'c', 's'}"
            ]
          },
          "metadata": {
            "tags": []
          },
          "execution_count": 35
        }
      ]
    },
    {
      "cell_type": "code",
      "metadata": {
        "id": "YhmwD8FKMz-r",
        "colab_type": "code",
        "colab": {}
      },
      "source": [
        "def myFunc(a,b,*args):\n",
        "  print(a,b,args)"
      ],
      "execution_count": 36,
      "outputs": []
    },
    {
      "cell_type": "code",
      "metadata": {
        "id": "2DriZ6zPMzxa",
        "colab_type": "code",
        "colab": {
          "base_uri": "https://localhost:8080/",
          "height": 54
        },
        "outputId": "23b7e53a-5022-4f3f-bde0-9da5b35f2761"
      },
      "source": [
        "myFunc(1,2,3,4,5)"
      ],
      "execution_count": 37,
      "outputs": [
        {
          "output_type": "stream",
          "text": [
            "1 2 (3, 4, 5)\n"
          ],
          "name": "stdout"
        }
      ]
    },
    {
      "cell_type": "code",
      "metadata": {
        "id": "MkEHGHhlMzu_",
        "colab_type": "code",
        "colab": {}
      },
      "source": [
        "def myFunc1(**kwargs):\n",
        "  print(kwargs)"
      ],
      "execution_count": 38,
      "outputs": []
    },
    {
      "cell_type": "code",
      "metadata": {
        "id": "3bNDtxjcK2CL",
        "colab_type": "code",
        "colab": {
          "base_uri": "https://localhost:8080/",
          "height": 54
        },
        "outputId": "2be36992-0cb0-4949-f587-8da1fad8b94e"
      },
      "source": [
        "myFunc1(a=3,b=4,c=5)"
      ],
      "execution_count": 39,
      "outputs": [
        {
          "output_type": "stream",
          "text": [
            "{'a': 3, 'b': 4, 'c': 5}\n"
          ],
          "name": "stdout"
        }
      ]
    },
    {
      "cell_type": "code",
      "metadata": {
        "id": "Nxo6ywJlK1-b",
        "colab_type": "code",
        "colab": {
          "base_uri": "https://localhost:8080/",
          "height": 54
        },
        "outputId": "2a9f696b-e819-4b92-bbfb-7b7904c8ef74"
      },
      "source": [
        "#Definizione di una funzione\n",
        "def sum(a,b):\n",
        "  c = a+b\n",
        "  return c\n",
        "\n",
        "sum(3,4)"
      ],
      "execution_count": 40,
      "outputs": [
        {
          "output_type": "execute_result",
          "data": {
            "text/plain": [
              "7"
            ]
          },
          "metadata": {
            "tags": []
          },
          "execution_count": 40
        }
      ]
    },
    {
      "cell_type": "code",
      "metadata": {
        "id": "xotHjbWZPkzE",
        "colab_type": "code",
        "colab": {
          "base_uri": "https://localhost:8080/",
          "height": 54
        },
        "outputId": "223727cd-c9d8-4a4a-80b6-af111fe34301"
      },
      "source": [
        "#Funzione lambda\n",
        "f = lambda a,b: a**b\n",
        "\n",
        "f(2,3)"
      ],
      "execution_count": 41,
      "outputs": [
        {
          "output_type": "execute_result",
          "data": {
            "text/plain": [
              "8"
            ]
          },
          "metadata": {
            "tags": []
          },
          "execution_count": 41
        }
      ]
    },
    {
      "cell_type": "code",
      "metadata": {
        "id": "-2j8Zf8GPk82",
        "colab_type": "code",
        "colab": {}
      },
      "source": [
        ""
      ],
      "execution_count": null,
      "outputs": []
    },
    {
      "cell_type": "code",
      "metadata": {
        "id": "85PfB7oBPlNC",
        "colab_type": "code",
        "colab": {}
      },
      "source": [
        ""
      ],
      "execution_count": null,
      "outputs": []
    },
    {
      "cell_type": "code",
      "metadata": {
        "id": "0Eshj_tEPlsv",
        "colab_type": "code",
        "colab": {}
      },
      "source": [
        ""
      ],
      "execution_count": null,
      "outputs": []
    },
    {
      "cell_type": "code",
      "metadata": {
        "id": "sWp33K8aPlqo",
        "colab_type": "code",
        "colab": {}
      },
      "source": [
        ""
      ],
      "execution_count": null,
      "outputs": []
    },
    {
      "cell_type": "code",
      "metadata": {
        "id": "LGXnu7P-PlZl",
        "colab_type": "code",
        "colab": {}
      },
      "source": [
        ""
      ],
      "execution_count": null,
      "outputs": []
    },
    {
      "cell_type": "code",
      "metadata": {
        "id": "87I3hOXePlVo",
        "colab_type": "code",
        "colab": {}
      },
      "source": [
        ""
      ],
      "execution_count": null,
      "outputs": []
    },
    {
      "cell_type": "code",
      "metadata": {
        "id": "34JTO_iGPlS7",
        "colab_type": "code",
        "colab": {}
      },
      "source": [
        ""
      ],
      "execution_count": null,
      "outputs": []
    }
  ]
}